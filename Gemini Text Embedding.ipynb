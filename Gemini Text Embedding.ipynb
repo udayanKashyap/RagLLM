{
 "cells": [
  {
   "cell_type": "code",
   "execution_count": 52,
   "id": "aef47a22-1fab-410e-b1f8-92d0817c4735",
   "metadata": {},
   "outputs": [],
   "source": [
    "from google import genai"
   ]
  },
  {
   "cell_type": "code",
   "execution_count": 28,
   "id": "8fc261fb-1270-4279-a135-72dace2577fa",
   "metadata": {},
   "outputs": [],
   "source": [
    "client = genai.Client(api_key=\"Hello\")"
   ]
  },
  {
   "cell_type": "code",
   "execution_count": 29,
   "id": "7ebefb14-8a24-4fcd-87bb-7642943b3fbd",
   "metadata": {},
   "outputs": [
    {
     "name": "stdout",
     "output_type": "stream",
     "text": [
      "3072\n"
     ]
    }
   ],
   "source": [
    "# The embeddings vector is stored in results.embeddings[0].values\n",
    "# result.embeddings is a list with 1 element\n",
    "# result.embeddings[0] has 2 attributes - values and statistics\n",
    "# The embeddings vector is 3072 dimensions long.\n",
    "print(len(result.embeddings[0].values))"
   ]
  },
  {
   "cell_type": "code",
   "execution_count": 30,
   "id": "2f20c215-f702-4fec-82c9-c8e0357dccdb",
   "metadata": {},
   "outputs": [],
   "source": [
    "from qdrant_client import QdrantClient\n",
    "from qdrant_client.http.models import PointStruct\n",
    "from qdrant_client.http import models"
   ]
  },
  {
   "cell_type": "code",
   "execution_count": 31,
   "id": "423bd83e-b04a-4e49-9893-de644701a3c8",
   "metadata": {},
   "outputs": [
    {
     "name": "stdout",
     "output_type": "stream",
     "text": [
      "collections=[CollectionDescription(name='document_collection')]\n"
     ]
    }
   ],
   "source": [
    "qdrant_client = QdrantClient(\n",
    "    url=\"Hello\", \n",
    "    api_key=\"Hello\",\n",
    ")\n",
    "\n",
    "print(qdrant_client.get_collections())"
   ]
  },
  {
   "cell_type": "code",
   "execution_count": 34,
   "id": "6b19598d-fbf0-4680-a99b-497ae081adba",
   "metadata": {},
   "outputs": [
    {
     "name": "stderr",
     "output_type": "stream",
     "text": [
      "/tmp/ipykernel_8991/977743236.py:2: DeprecationWarning: `recreate_collection` method is deprecated and will be removed in the future. Use `collection_exists` to check collection existence and `create_collection` instead.\n",
      "  qdrant_client.recreate_collection(\n"
     ]
    },
    {
     "data": {
      "text/plain": [
       "True"
      ]
     },
     "execution_count": 34,
     "metadata": {},
     "output_type": "execute_result"
    }
   ],
   "source": [
    "collection_name = \"document_collection\"\n",
    "qdrant_client.recreate_collection(\n",
    "    collection_name=collection_name,\n",
    "    vectors_config=models.VectorParams(size=3072, distance=models.Distance.EUCLID)\n",
    ")"
   ]
  },
  {
   "cell_type": "code",
   "execution_count": 51,
   "id": "525de7d7-f4d0-4e87-923a-fe1ccc7bc440",
   "metadata": {},
   "outputs": [
    {
     "data": {
      "text/plain": [
       "UpdateResult(operation_id=16, status=<UpdateStatus.COMPLETED: 'completed'>)"
      ]
     },
     "execution_count": 51,
     "metadata": {},
     "output_type": "execute_result"
    }
   ],
   "source": [
    "content = \"Domesticated for thousands of years, cats were originally valued for their ability to control pests in agricultural societies. Today, they serve not only as companions but also as therapy animals in some settings. While they retain many traits of their wild ancestors, domestic cats have adapted well to indoor life, thriving in homes and apartments across diverse cultures and environments.\"\n",
    "result = client.models.embed_content(\n",
    "        model=\"gemini-embedding-exp-03-07\",\n",
    "        contents=content)\n",
    "\n",
    "collection_info = qdrant_client.get_collection(collection_name)\n",
    "point_count = collection_info.points_count  # or .vectors_count\n",
    "next_id = point_count  # Assumes IDs are 0, 1, 2, ..., n-1\n",
    "\n",
    "\n",
    "qdrant_client.upsert(\n",
    "    collection_name=collection_name,\n",
    "    points=[\n",
    "        PointStruct(\n",
    "            id=next_id,\n",
    "            vector=result.embeddings[0].values,\n",
    "            payload={\"Text\": \"Bismoy\"}\n",
    "        )\n",
    "    ]\n",
    ")"
   ]
  },
  {
   "cell_type": "code",
   "execution_count": null,
   "id": "2eaf3600-bbe3-4f4d-8c2c-8b831ae7c48b",
   "metadata": {},
   "outputs": [],
   "source": []
  }
 ],
 "metadata": {
  "kernelspec": {
   "display_name": "Python 3 (ipykernel)",
   "language": "python",
   "name": "python3"
  },
  "language_info": {
   "codemirror_mode": {
    "name": "ipython",
    "version": 3
   },
   "file_extension": ".py",
   "mimetype": "text/x-python",
   "name": "python",
   "nbconvert_exporter": "python",
   "pygments_lexer": "ipython3",
   "version": "3.12.3"
  }
 },
 "nbformat": 4,
 "nbformat_minor": 5
}
