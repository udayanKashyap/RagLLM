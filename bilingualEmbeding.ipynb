{
 "cells": [
  {
   "cell_type": "code",
   "execution_count": 1,
   "id": "8c1f2bfd-c4a8-40ed-8ea8-e3c2ee6fa491",
   "metadata": {},
   "outputs": [
    {
     "name": "stderr",
     "output_type": "stream",
     "text": [
      "/home/udayan/Projects/Rag/.venv/lib/python3.12/site-packages/tqdm/auto.py:21: TqdmWarning: IProgress not found. Please update jupyter and ipywidgets. See https://ipywidgets.readthedocs.io/en/stable/user_install.html\n",
      "  from .autonotebook import tqdm as notebook_tqdm\n"
     ]
    }
   ],
   "source": [
    "from sentence_transformers import SentenceTransformer"
   ]
  },
  {
   "cell_type": "code",
   "execution_count": 2,
   "id": "c5e70f98-56e3-46e3-95d9-dc43837b0f36",
   "metadata": {},
   "outputs": [],
   "source": [
    "model = SentenceTransformer('intfloat/multilingual-e5-large-instruct', trust_remote_code=True)"
   ]
  },
  {
   "cell_type": "code",
   "execution_count": 3,
   "id": "f84f7bb5-1c95-4c16-9f39-225e9c2d3372",
   "metadata": {},
   "outputs": [
    {
     "name": "stdout",
     "output_type": "stream",
     "text": [
      "[[ 0.01841922  0.03719317 -0.0206687  ... -0.00935454 -0.03181576\n",
      "   0.00905006]]\n"
     ]
    }
   ],
   "source": [
    "sentences = ['''A neutron star is the collapsed core of a massive supergiant star. It results from the supernova explosion of a massive star—combined with gravitational collapse—that compresses the core past white dwarf star density to that of atomic nuclei. Surpassed only by black holes, neutron stars are the second smallest and densest known class of stellar objects.[1] Neutron stars have a radius on the order of 10 kilometers (6 mi) and a mass of about 1.4 M☉.[2] Stars that collapse into neutron stars have a total mass of between 10 and 25 solar masses (M☉), or possibly more for those that are especially rich in elements heavier than hydrogen and helium.[3]\n",
    "Once formed, neutron stars no longer actively generate heat and cool over time, but they may still evolve further through collisions or accretion. Most of the basic models for these objects imply that they are composed almost entirely of neutrons, as the extreme pressure causes the electrons and protons present in normal matter to combine into additional neutrons. These stars are partially supported against further collapse by neutron degeneracy pressure, just as white dwarfs are supported against collapse by electron degeneracy pressure. However, this is not by itself sufficient to hold up an object beyond 0.7 M☉[4][5] and repulsive nuclear forces increasingly contribute to supporting more massive neutron stars.[6][7] If the remnant star has a mass exceeding the Tolman–Oppenheimer–Volkoff limit, which ranges from 2.2–2.9 M☉, the combination of degeneracy pressure and nuclear forces is insufficient to support the neutron star, causing it to collapse and form a black hole. The most massive neutron star detected so far, PSR J0952–0607, is estimated to be 2.35±0.17 M☉.[8]\n",
    "Newly formed neutron stars may have surface temperatures of ten million K or more. However, since neutron stars generate no new heat through fusion, they inexorably cool down after their formation. Consequently, a given neutron star reaches a surface temperature of one million K when it is between one thousand and one million years old.[9] Older and even-cooler neutron stars are still easy to discover. For example, the well-studied neutron star, RX J1856.5−3754, has an average surface temperature of about 434,000 K.[10] For comparison, the Sun has an effective surface temperature of 5,780 K.[11]\n",
    "Neutron star material is remarkably dense: a normal-sized matchbox containing neutron-star material would have a weight of approximately 3 billion tonnes, the same weight as a 0.5-cubic-kilometer chunk of the Earth (a cube with edges of about 800 meters) from Earth's surface.[12][13]\n",
    "As a star's core collapses, its rotation rate increases due to conservation of angular momentum, so newly formed neutron stars typically rotate at up to several hundred times per second. Some neutron stars emit beams of electromagnetic radiation that make them detectable as pulsars, and the discovery of pulsars by Jocelyn Bell Burnell and Antony Hewish in 1967 was the first observational suggestion that neutron stars exist. The fastest-spinning neutron star known is PSR J1748−2446ad, rotating at a rate of 716 times per second[14][15] or 43,000 revolutions per minute, giving a linear (tangential) speed at the surface on the order of 0.24c (i.e., nearly a quarter the speed of light).\n",
    "There are thought to be around one billion neutron stars in the Milky Way,[16] and at a minimum several hundred million, a figure obtained by estimating the number of stars that have undergone supernova explosions.[17] However, many of them have existed for a long period of time and have cooled down considerably. These stars radiate very little electromagnetic radiation; most neutron stars that have been detected occur only in certain situations in which they do radiate, such as if they are a pulsar or a part of a binary system. Slow-rotating and non-accreting neutron stars are difficult to detect, due to the absence of electromagnetic radiation; however, since the Hubble Space Telescope's detection of RX J1856.5−3754 in the 1990s, a few nearby neutron stars that appear to emit only thermal radiation have been detected.\n",
    "Neutron stars in binary systems can undergo accretion, in which case they emit large amounts of X-rays. During this process, matter is deposited on the surface of the stars, forming \"hotspots\" that can be sporadically identified as X-ray pulsar systems. Additionally, such accretions are able to \"recycle\" old pulsars, causing them to gain mass and rotate extremely quickly, forming millisecond pulsars. Furthermore, binary systems such as these continue to evolve, with many companions eventually becoming compact objects such as white dwarfs or neutron stars themselves, though other possibilities include a complete destruction of the companion through ablation or collision.\n",
    "The study of neutron star systems is central to gravitational wave astronomy. The merger of binary neutron stars produces gravitational waves and may be associated with kilonovae and short-duration gamma-ray bursts. In 2017, the LIGO and Virgo interferometer sites observed GW170817, the first direct detection of gravitational waves from such an event.[18] Prior to this, indirect evidence for gravitational waves was inferred by studying the gravity radiated from the orbital decay of a different type of (unmerged) binary neutron system, the Hulse–Taylor pulsar.\n",
    "''']\n",
    "embeddings = model.encode(sentences, normalize_embeddings=True)\n",
    "\n",
    "print(embeddings)"
   ]
  },
  {
   "cell_type": "code",
   "execution_count": 6,
   "id": "865df4bc-86f8-4711-80e8-1a2d7a7334fd",
   "metadata": {},
   "outputs": [
    {
     "data": {
      "text/plain": [
       "1024"
      ]
     },
     "execution_count": 6,
     "metadata": {},
     "output_type": "execute_result"
    }
   ],
   "source": [
    "len(embeddings[0])"
   ]
  },
  {
   "cell_type": "code",
   "execution_count": null,
   "id": "85742c76-996a-4f00-a589-340d8a745894",
   "metadata": {},
   "outputs": [],
   "source": []
  }
 ],
 "metadata": {
  "kernelspec": {
   "display_name": "Python 3 (ipykernel)",
   "language": "python",
   "name": "python3"
  },
  "language_info": {
   "codemirror_mode": {
    "name": "ipython",
    "version": 3
   },
   "file_extension": ".py",
   "mimetype": "text/x-python",
   "name": "python",
   "nbconvert_exporter": "python",
   "pygments_lexer": "ipython3",
   "version": "3.12.3"
  }
 },
 "nbformat": 4,
 "nbformat_minor": 5
}
